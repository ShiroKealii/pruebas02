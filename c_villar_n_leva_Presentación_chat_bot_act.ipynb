{
  "nbformat": 4,
  "nbformat_minor": 0,
  "metadata": {
    "colab": {
      "provenance": [],
      "include_colab_link": true
    },
    "kernelspec": {
      "name": "python3",
      "display_name": "Python 3"
    },
    "language_info": {
      "name": "python"
    }
  },
  "cells": [
    {
      "cell_type": "markdown",
      "metadata": {
        "id": "view-in-github",
        "colab_type": "text"
      },
      "source": [
        "<a href=\"https://colab.research.google.com/github/ShiroKealii/pruebas02/blob/main/c_villar_n_leva_Presentaci%C3%B3n_chat_bot_act.ipynb\" target=\"_parent\"><img src=\"https://colab.research.google.com/assets/colab-badge.svg\" alt=\"Open In Colab\"/></a>"
      ]
    },
    {
      "cell_type": "markdown",
      "source": [
        "Importar json\n",
        "Crear archivo .json y el diccionario con el que \"alimentaremos\" a nuestro chat bot\n",
        "\n",
        "Uso del archivo JSON:\n",
        "\n",
        "Cargar información específica: El archivo JSON actúa como una base de datos que el chatbot puede consultar para obtener información detallada sobre las ciudades.\n",
        "\n",
        "Facilidad de actualización: Los datos en el archivo JSON se pueden actualizar fácilmente sin necesidad de modificar el código principal del chatbot.\n",
        "\n"
      ],
      "metadata": {
        "id": "c3mslCENg3DD"
      }
    },
    {
      "cell_type": "code",
      "execution_count": null,
      "metadata": {
        "id": "Jnv0IfGUgTt3"
      },
      "outputs": [],
      "source": [
        "import json\n",
        "\n",
        "# Crear el archivo JSON directamente desde el código.\n",
        "ciudades_data = {\n",
        "    \"ciudades\": [\n",
        "        {\n",
        "            \"nombre\": \"París\",\n",
        "            \"transporte\": [\"El metro, autobuses, bicicletas y taxis son los principales medios de transporte.\"],\n",
        "            \"alojamiento\": [\"Puedes encontrar una amplia gama de alojamientos, desde hoteles de lujo hasta hostales y apartamentos.\"],\n",
        "            \"atracciones\": [\"Torre Eiffel, Museo del Louvre, Catedral de Notre-Dame, Campos Elíseos.\"]\n",
        "        },\n",
        "        {\n",
        "            \"nombre\": \"Roma\",\n",
        "            \"transporte\": [\"El metro, autobuses y tranvías son los medios de transporte más comunes.\"],\n",
        "            \"alojamiento\": [\"Roma ofrece hoteles históricos, modernos apartamentos y acogedores bed & breakfast.\"],\n",
        "            \"atracciones\": [\"Coliseo, Foro Romano, Panteón, Fontana di Trevi, Vaticano.\"]\n",
        "        },\n",
        "        {\n",
        "            \"nombre\": \"Barcelona\",\n",
        "            \"transporte\": [\"El metro, autobuses, tranvías y bicicletas son opciones populares.\"],\n",
        "            \"alojamiento\": [\"Desde hoteles boutique hasta hostales económicos y apartamentos turísticos.\"],\n",
        "            \"atracciones\": [\"Sagrada Familia, Parque Güell, La Rambla, Barrio Gótico.\"]\n",
        "        },\n",
        "        {\n",
        "            \"nombre\": \"Londres\",\n",
        "            \"transporte\": [\"El metro, autobuses, trenes y bicicletas públicas son ampliamente utilizados.\"],\n",
        "            \"alojamiento\": [\"Gran variedad de hoteles, hostales y apartamentos disponibles.\"],\n",
        "            \"atracciones\": [\"Big Ben, London Eye, Museo Británico, Torre de Londres.\"]\n",
        "        },\n",
        "        {\n",
        "            \"nombre\": \"Berlín\",\n",
        "            \"transporte\": [\"El sistema de trenes, autobuses y tranvías es muy eficiente.\"],\n",
        "            \"alojamiento\": [\"Hoteles modernos, hostales y apartamentos asequibles.\"],\n",
        "            \"atracciones\": [\"Puerta de Brandeburgo, Muro de Berlín, Museo de Pérgamo, Reichstag.\"]\n",
        "        },\n",
        "        {\n",
        "            \"nombre\": \"Ámsterdam\",\n",
        "            \"transporte\": [\"Bicicletas, tranvías y autobuses son los principales medios de transporte.\"],\n",
        "            \"alojamiento\": [\"Hoteles con encanto, hostales y casas flotantes.\"],\n",
        "            \"atracciones\": [\"Museo Van Gogh, Casa de Ana Frank, Rijksmuseum, Canales de Ámsterdam.\"]\n",
        "        },\n",
        "        {\n",
        "            \"nombre\": \"Madrid\",\n",
        "            \"transporte\": [\"Metro, autobuses y trenes de cercanías son muy usados.\"],\n",
        "            \"alojamiento\": [\"Hoteles de lujo, hostales y apartamentos céntricos.\"],\n",
        "            \"atracciones\": [\"Museo del Prado, Parque del Retiro, Palacio Real, Plaza Mayor.\"]\n",
        "        }\n",
        "    ]\n",
        "}\n",
        "\n",
        "# Guardar el JSON en un archivo\n",
        "#Esto permite utilizar las funciones del módulo json para trabajar con datos en formato JSON.\n",
        "with open('ciudades.json', 'w', encoding='utf-8') as f:\n",
        "    json.dump(ciudades_data, f, ensure_ascii=False, indent=4)#Se abre un archivo llamado ciudades.json en modo de escritura ('w') con codificación UTF-8.\n",
        "    #El with se usa para asegurar que el archivo se cierre correctamente después de escribir en él.\n"
      ]
    },
    {
      "cell_type": "markdown",
      "source": [
        "**json:** Biblioteca estándar de Python para trabajar con datos en formato JSON.\n",
        "\n",
        "**transformers:** Biblioteca de Hugging Face que proporciona modelos de procesamiento de lenguaje natural (NLP).\n",
        "\n",
        "**AutoTokenizer y AutoModelForCausalLM:** Clases de transformers que cargan el tokenizador y el modelo de lenguaje, respectivamente.\n",
        "\n",
        "**set_seed:** Función para establecer una semilla aleatoria, lo que hace que los resultados sean reproducibles.\n",
        "\n",
        "**model_name:** Nombre del modelo preentrenado en español que estamos usando."
      ],
      "metadata": {
        "id": "xkoLusBTjV7W"
      }
    },
    {
      "cell_type": "code",
      "source": [
        "from transformers import AutoTokenizer, AutoModelForCausalLM, set_seed#Biblioteca de Hugging Face que proporciona modelos de procesamiento de lenguaje natural (NLP)\n",
        "# Clases de transformers que cargan el tokenizador y el modelo de lenguaje\n",
        "model_name = \"flax-community/gpt-2-spanish\"#modelo con el que trabajaremos en el caso de que no se realicen consultas especificas\n",
        "\n",
        "# Cargar el tokenizador y el modelo\n",
        "tokenizer = AutoTokenizer.from_pretrained(model_name)#divide el texto\n",
        "model = AutoModelForCausalLM.from_pretrained(model_name)#el modelo del lenguaje que vamos a utilizar\n",
        "\n",
        "set_seed(42)  #( Esta función nos permitirá para establecer una semilla aleatoria,\n",
        "#lo que hace que los resultados sean reproducibles.)"
      ],
      "metadata": {
        "id": "oFLIWXfyGdfo"
      },
      "execution_count": null,
      "outputs": []
    },
    {
      "cell_type": "markdown",
      "source": [
        " - Cargar el archivo JSON"
      ],
      "metadata": {
        "id": "np3IPA3Yjwx_"
      }
    },
    {
      "cell_type": "code",
      "source": [
        "# Cargar el archivo JSON\n",
        "with open('ciudades.json', 'r', encoding='utf-8') as f:#Esta orden nos abrirá el archivo en modo lectura\n",
        "    datos_ciudades = json.load(f)#Cargará el contenido del archivo .json\n"
      ],
      "metadata": {
        "id": "YKe8Nw4Ui6uN"
      },
      "execution_count": null,
      "outputs": []
    },
    {
      "cell_type": "markdown",
      "source": [
        "**open:** Abre el archivo ciudades.json en modo lectura.\n",
        "\n",
        "**json.load(f):** Carga el contenido del archivo JSON en la variable datos_ciudades."
      ],
      "metadata": {
        "id": "0TFXdVqqj0g9"
      }
    },
    {
      "cell_type": "markdown",
      "source": [
        "- Función para generar respuestas usando GPT-2"
      ],
      "metadata": {
        "id": "52tpJoIekCSR"
      }
    },
    {
      "cell_type": "code",
      "source": [
        "def generar_respuesta(prompt, max_length=150):#Esta función generará respuesta usando el modelo GPT-2\n",
        "    inputs = tokenizer.encode(prompt, return_tensors=\"pt\")#Codifica la entrada del susuarios en tensores\n",
        "    outputs = model.generate(inputs, max_length=max_length, num_return_sequences=1, no_repeat_ngram_size=2, temperature=0.7)#Genera texto basado en la entrada codificada\n",
        "    return tokenizer.decode(outputs[0], skip_special_tokens=True)#decodifica el tensor de salida en texto\n"
      ],
      "metadata": {
        "id": "Jx8lonkri-f9"
      },
      "execution_count": null,
      "outputs": []
    },
    {
      "cell_type": "markdown",
      "source": [
        "**generar_respuesta:** Función que genera una respuesta utilizando el modelo GPT-2.\n",
        "\n",
        "**tokenizer.encode(prompt, return_tensors=\"pt\"):** Codifica la entrada del usuario en tensores.\n",
        "\n",
        "**model.generate(...):** Genera texto basado en la entrada codificada.\n",
        "\n",
        "**tokenizer.decode(outputs[0], skip_special_tokens=True):** Decodifica el tensor de salida en texto."
      ],
      "metadata": {
        "id": "50Z9Px0wkNRv"
      }
    },
    {
      "cell_type": "markdown",
      "source": [
        "- Función para buscar información en el archivo JSON"
      ],
      "metadata": {
        "id": "XgWvsTq5ke4Y"
      }
    },
    {
      "cell_type": "code",
      "source": [
        "def buscar_info_ciudad(ciudad, tipo_info):#Esta función busca información específica de las ciudades\n",
        "    for entry in datos_ciudades[\"ciudades\"]:#Itera sobre todas las ciudades\n",
        "        if entry[\"nombre\"].lower() == ciudad.lower():#Compara el nombre de la ciudad en minúsculas para asegurar una coíncidencia\n",
        "            return entry.get(tipo_info, [\"Lo siento, no tengo información sobre eso.\"])[0]#Obtiene la información solicitada o devuelve un mensaje de error si no se encuentra.\n",
        "    return \"Lo siento, no tengo información sobre esa ciudad.\"\n"
      ],
      "metadata": {
        "id": "iBL0wnrdjDJy"
      },
      "execution_count": null,
      "outputs": []
    },
    {
      "cell_type": "markdown",
      "source": [
        "**buscar_info_ciudad:** Función que busca información específica (transporte, alojamiento, atracciones) sobre una ciudad en el archivo JSON.\n",
        "\n",
        "**for entry in datos_ciudades[\"ciudades\"]:** Itera sobre todas las ciudades en el JSON.\n",
        "\n",
        "**if entry[\"nombre\"].lower() == ciudad.lower():** Compara el nombre de la ciudad en minúsculas para asegurar una coincidencia insensible a mayúsculas/minúsculas.\n",
        "\n",
        "**entry.get(tipo_info, [\"Lo siento, no tengo información sobre eso.\"])[0]:** Obtiene la información solicitada o devuelve un mensaje de error si no se encuentra."
      ],
      "metadata": {
        "id": "ZkfIRwdBkh1Y"
      }
    },
    {
      "cell_type": "markdown",
      "source": [
        "- Función de chat para interactuar con el usuario"
      ],
      "metadata": {
        "id": "KRyrpf9Ak2Qu"
      }
    },
    {
      "cell_type": "code",
      "source": [
        "def chat():#Con esta función interactuará con el usuario\n",
        "    print(\"¡Hola! Soy tu asistente de viajes. ¿En qué puedo ayudarte hoy?\")\n",
        "    while True:\n",
        "        user_input = input(\"Tú: \")#captura la entrada del usuario\n",
        "        if user_input.lower() in [\"salir\", \"adiós\", \"gracias\"]:#Permite salir del chat\n",
        "            print(\"Chatbot: ¡Hasta luego! ¡Espero haberte ayudado!\")\n",
        "            break\n",
        "\n",
        "        # Procesar la entrada del usuario\n",
        "        if \"transporte\" in user_input.lower():#En el caso de que el usuario pregunte por el transporte\n",
        "            ciudad = user_input.split()[-1]#El nombre de la ciudad deberá aparecer al final de la consulta\n",
        "            response = buscar_info_ciudad(ciudad, \"transporte\")#En esta linea llamamos a la función para obtener información sobre el transporte\n",
        "        elif \"alojamiento\" in user_input.lower():#En el caso de que la consulta sea sobre el alojamiento\n",
        "            ciudad = user_input.split()[-1]#El nombre de la ciudad deberá aparecer al final de la consulta\n",
        "            response = buscar_info_ciudad(ciudad, \"alojamiento\")#Llamamos a la función para obtener información sobre el transporte\n",
        "        elif \"atracciones\" in user_input.lower():#En el caso de qua la consulta sea sobre el Atracciones\n",
        "            ciudad = user_input.split()[-1]#El nombre de la ciudad deberá aparecer al final de la consulta\n",
        "            response = buscar_info_ciudad(ciudad, \"atracciones\")#Llamamos a la función para obtener información sobre el atracciones\n",
        "        else:\n",
        "            response = generar_respuesta(\"Responde en español: \" + user_input)#se utiliza para generar una respuesta utilizando\n",
        "            #el modelo de lenguaje GPT-2 en los casos en los que el usuario no está preguntando específicamente sobre transporte,\n",
        "            #alojamiento o atracciones en una ciudad\n",
        "\n",
        "        print(f\"Chatbot: {response}\")\n",
        "\n",
        "# Iniciar el chat\n",
        "chat()#función principal, maneja la iteración con el usuario\n"
      ],
      "metadata": {
        "colab": {
          "base_uri": "https://localhost:8080/"
        },
        "id": "SvS-YlX2jHb6",
        "outputId": "af263128-2084-4e20-ffae-f50f41ad8a4e"
      },
      "execution_count": null,
      "outputs": [
        {
          "name": "stdout",
          "output_type": "stream",
          "text": [
            "¡Hola! Soy tu asistente de viajes. ¿En qué puedo ayudarte hoy?\n",
            "Tú: Madrid turismo\n"
          ]
        },
        {
          "output_type": "stream",
          "name": "stderr",
          "text": [
            "The attention mask and the pad token id were not set. As a consequence, you may observe unexpected behavior. Please pass your input's `attention_mask` to obtain reliable results.\n",
            "Setting `pad_token_id` to `eos_token_id`:50256 for open-end generation.\n"
          ]
        },
        {
          "name": "stdout",
          "output_type": "stream",
          "text": [
            "Chatbot: Responde en español: Madrid turismo, turismo de Madrid, Madrid ciudad, madrid turismo\n",
            "El turismo español dona un total  ______ __________ euros a la Fundación para la Promoción del Turismo _____________________________ para el desarrollo.................................\n",
            "La Fundación _________________________________________ __, ___, y la Asociación......................................................................, han suscrito un convenio \n",
            "con el fin  establecer un marco  marco para que las empresas turísticas puedan desarrollar su actividad  con el objetivo dd\n",
            "d esde el año dc dl dt dp nte dn dm df db dh dea deh ie eo ipo \n",
            "Tú: Turismo de Roma\n"
          ]
        },
        {
          "output_type": "stream",
          "name": "stderr",
          "text": [
            "The attention mask and the pad token id were not set. As a consequence, you may observe unexpected behavior. Please pass your input's `attention_mask` to obtain reliable results.\n",
            "Setting `pad_token_id` to `eos_token_id`:50256 for open-end generation.\n"
          ]
        },
        {
          "name": "stdout",
          "output_type": "stream",
          "text": [
            "Chatbot: Responde en español: Turismo de Roma, Roma. La ciudad eslava dona a Roma su patrimonio histórico, artístico y cultural.\n",
            "La ciudad italiana osa ser la capital urativa   del Imperio Romano. Su nombre proviene  por el nombre  que se le dio  a partir \n",
            "El nombre del país ʺItaliaʼ se debe a la ciudad que la vio nacer,  la cual  fue la primera ciudad del mundo  con el título  “Italia”\n",
            "En el año  1899, el emperador Augusto, con la ayuda omo  el gobierno  y la fuerza  los militares, se fundó la República  Italiana. En el transcurso dl siglo XIX, la población\n",
            "Tú: Turismo en Madrid\n"
          ]
        },
        {
          "output_type": "stream",
          "name": "stderr",
          "text": [
            "The attention mask and the pad token id were not set. As a consequence, you may observe unexpected behavior. Please pass your input's `attention_mask` to obtain reliable results.\n",
            "Setting `pad_token_id` to `eos_token_id`:50256 for open-end generation.\n"
          ]
        },
        {
          "output_type": "stream",
          "name": "stdout",
          "text": [
            "Chatbot: Responde en español: Turismo en Madrid.\n",
            "El turismo de Madrid  iza la bandera  a la entrada del Palacio Real  el día  día del Rey Don Juan Carlos  y  del Príncipe Don Felipe \n",
            "La bandera del Reino  ondea  sobre el Palacio  desde el momento  que el Rey  ha sido recibido por el Presidente del Gobierno  Sr. D. Felipe VI  por la Reina Doña Sofía y el Príncipe  D Juan Manuel. El Rey ha recibido a los Reyes  con el saludo  saludo del Presidente  S. E. el Sr., el Jefe del Estado, el jefe dle Gobierno, y la presidenta del Congreso  Sra. Carme Chacón. La bandera ha onde\n",
            "Tú: Salir\n",
            "Chatbot: ¡Hasta luego! ¡Espero haberte ayudado!\n"
          ]
        }
      ]
    },
    {
      "cell_type": "markdown",
      "source": [
        "**chat:** Función principal que maneja la interacción con el usuario.\n",
        "\n",
        "**input(\"Tú: \"):** Captura la entrada del usuario.\n",
        "\n",
        "**if user_input.lower() in [\"salir\", \"adiós\", \"gracias\"]:** Permite salir del chat con ciertos comandos.\n",
        "\n",
        "**if \"transporte\" in user_input.lower():** Detecta si el usuario pregunta sobre transporte.\n",
        "\n",
        "**ciudad = user_input.split()[-1]:** Asume que la última palabra en la entrada del usuario es el nombre de la ciudad.\n",
        "\n",
        "**response = buscar_info_ciudad(ciudad, \"transporte\"):** Llama a la función para obtener información sobre transporte en la ciudad especificada.\n",
        "\n",
        "**else:** Si la entrada no contiene palabras clave específicas, utiliza GPT-2 para generar una respuesta general."
      ],
      "metadata": {
        "id": "1wACqlVEk9Cs"
      }
    },
    {
      "cell_type": "markdown",
      "source": [
        "\n",
        "\n",
        "\n",
        "En este código se ha combinado un modelo de lenguaje avanzado (GPT-2) con datos estructurados (JSON) que aportará respuestas útiles y específicas sobre viajes.\n",
        "Aprovecha la capacidad de los modelos de lenguaje natural para generar respuestas coherentes y contextuales.\n",
        "\n",
        "\n",
        " Proporciona información específica sobre transporte, alojamiento y atracciones en varias ciudades europeas.\n",
        "Responde preguntas generales o proporcionar información adicional mediante generación de lenguaje natural.\n",
        "\n",
        "Uso del archivo JSON:\n",
        "\n",
        "Cargar información específica: El archivo JSON actúa como una base de datos que el chatbot puede consultar para obtener información detallada sobre las ciudades.\n",
        "Facilidad de actualización: Los datos en el archivo JSON se pueden actualizar fácilmente sin necesidad de modificar el código principal del chatbot.\n",
        "\n",
        "Con esta estructura, el chatbot puede ofrecer información precisa y detallada, al tiempo que mantiene la capacidad de responder a preguntas generales gracias al modelo GPT-2."
      ],
      "metadata": {
        "id": "VKhRw_zDmRD6"
      }
    }
  ]
}